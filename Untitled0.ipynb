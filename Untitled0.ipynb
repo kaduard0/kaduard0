{
  "nbformat": 4,
  "nbformat_minor": 0,
  "metadata": {
    "colab": {
      "provenance": [],
      "authorship_tag": "ABX9TyNeJWkes369TJodkEDpVOSy",
      "include_colab_link": true
    },
    "kernelspec": {
      "name": "python3",
      "display_name": "Python 3"
    },
    "language_info": {
      "name": "python"
    }
  },
  "cells": [
    {
      "cell_type": "markdown",
      "metadata": {
        "id": "view-in-github",
        "colab_type": "text"
      },
      "source": [
        "<a href=\"https://colab.research.google.com/github/kaduard0/kaduard0/blob/main/Untitled0.ipynb\" target=\"_parent\"><img src=\"https://colab.research.google.com/assets/colab-badge.svg\" alt=\"Open In Colab\"/></a>"
      ]
    },
    {
      "cell_type": "code",
      "execution_count": 3,
      "metadata": {
        "colab": {
          "base_uri": "https://localhost:8080/"
        },
        "id": "ruk-wlX3LuCb",
        "outputId": "6893cbb6-2ff5-4f1d-b19b-3236d015216e"
      },
      "outputs": [
        {
          "output_type": "stream",
          "name": "stdout",
          "text": [
            "Digite o raio da circumferencia\n",
            "3\n",
            "O comprimento ficou em:18.85\n"
          ]
        }
      ],
      "source": [
        "#importação da biblioteca math\n",
        "from math import pi \n",
        "#declaração da variavel\n",
        "print ('Digite o raio da circumferencia')\n",
        "raio = float (input())\n",
        "#calcupar o comprimento\n",
        "comprimento = 2 * raio * pi\n",
        "#imprimir na tela\n",
        "print('O comprimento ficou em:{:.2f }'.format(comprimento))"
      ]
    },
    {
      "cell_type": "code",
      "source": [
        "nome = 'carlos'\n",
        "idade = 20\n",
        "estado = 'solteiro'\n",
        "filho = True\n",
        "print ('meu nome e {}, tenho {} anos'. format(nome, idade))"
      ],
      "metadata": {
        "colab": {
          "base_uri": "https://localhost:8080/"
        },
        "id": "qxqJ6XcZUWtB",
        "outputId": "a2c66e4e-7858-40c8-d973-6be08c0b9962"
      },
      "execution_count": 4,
      "outputs": [
        {
          "output_type": "stream",
          "name": "stdout",
          "text": [
            "meu nome e carlos, tenho 20 anos\n"
          ]
        }
      ]
    },
    {
      "cell_type": "code",
      "source": [
        "#Declaração da variavel\n",
        "numero = int(input('Digite um numero inteiro: '))\n",
        "#Calcular o antecessor\n",
        "antercessor = numero - 1 \n",
        "#caucular o sucessor\n",
        "sucessor = + 1\n",
        "#Imprimir na tela \n",
        "print(f\"antecessor de {numero} = {antecessor}\")\n",
        "print(\"sucessor de {} = {}\".format(numero,sucessor))"
      ],
      "metadata": {
        "id": "dQqK3ytyV9kW"
      },
      "execution_count": null,
      "outputs": []
    }
  ]
}